{
 "cells": [
  {
   "cell_type": "markdown",
   "id": "91aa4d38",
   "metadata": {},
   "source": [
    "# Data Analysis Notebook"
   ]
  },
  {
   "cell_type": "markdown",
   "id": "d7daffba",
   "metadata": {},
   "source": [
    "## Introduction\n",
    "\n",
    "Welcome to this data analysis notebook!"
   ]
  },
  {
   "cell_type": "markdown",
   "id": "60624d93",
   "metadata": {},
   "source": [
    "### Data Science Languages\n"
   ]
  },
  {
   "cell_type": "markdown",
   "id": "090c2d9f",
   "metadata": {},
   "source": [
    "\n",
    "- Python\n",
    "- R\n",
    "- SQL\n",
    "- Julia\n",
    "- MATLAB\n",
    "- Scala\n",
    "- Java\n",
    "- C/C++\n",
    "- SAS\n",
    "- Stata\n",
    "- Julia\n",
    "- Ruby\n",
    "- Perl\n",
    "- Haskell\n",
    "- Go"
   ]
  },
  {
   "cell_type": "markdown",
   "id": "0100f405",
   "metadata": {},
   "source": [
    "### Data Science Libraries"
   ]
  },
  {
   "cell_type": "markdown",
   "id": "64706796",
   "metadata": {},
   "source": [
    "\n",
    "- NumPy: Numerical computing library for Python.\n",
    "- Pandas: Data manipulation and analysis library for Python.\n",
    "- Matplotlib: Data visualization library for Python.\n",
    "- Seaborn: Statistical data visualization library based on Matplotlib.\n",
    "- Scikit-learn: Machine learning library for Python.\n",
    "- TensorFlow: Machine learning framework for building and deploying ML models.\n",
    "- Keras: High-level neural networks API built on top of TensorFlow.\n",
    "- PyTorch: Deep learning framework for Python.\n",
    "- SciPy: Scientific computing library for Python.\n",
    "- Statsmodels: Statistical modeling and econometrics library for Python.\n",
    "- H2O: Open-source machine learning platform.\n",
    "- XGBoost: Gradient boosting library for Python.\n",
    "- LightGBM: Gradient boosting framework.\n",
    "- Dask: Parallel computing library for analytics.\n",
    "- Spark MLlib: Distributed machine learning library for big data."
   ]
  },
  {
   "cell_type": "markdown",
   "id": "bfdaae83",
   "metadata": {},
   "source": [
    "## Data Science Tools"
   ]
  },
  {
   "cell_type": "markdown",
   "id": "94e4762b",
   "metadata": {},
   "source": [
    "\n",
    "| Tool           | Description                                                       |\n",
    "|----------------|-------------------------------------------------------------------|\n",
    "| Python         | A versatile programming language with rich libraries for data science. |\n",
    "| R              | A statistical programming language with extensive data analysis capabilities. |\n",
    "| SQL            | A language for managing and querying relational databases.             |\n",
    "| Jupyter Notebook   | An interactive coding environment for data exploration and analysis.   |\n",
    "| Pandas         | A powerful data manipulation and analysis library for Python.        |\n",
    "| NumPy          | A fundamental package for scientific computing with Python.         |\n",
    "| Scikit-learn   | A machine learning library for Python.                              |\n",
    "| TensorFlow     | An open-source deep learning framework.                             |\n",
    "| PyTorch        | A popular deep learning framework with dynamic computational graphs.    |\n",
    "| Tableau        | A data visualization tool for creating interactive visualizations.  |\n",
    "| Power BI       | A business intelligence tool for data visualization and reporting.  |\n",
    "| Apache Spark   | A fast and general-purpose cluster computing system for big data processing. |\n",
    "| KNIME          | An open-source data analytics platform for visual workflow development. |\n",
    "| RapidMiner     | An integrated environment for data preparation, machine learning, and predictive modeling. |"
   ]
  },
  {
   "cell_type": "markdown",
   "id": "f9cd8e42",
   "metadata": {},
   "source": [
    "## Arithmetic Expression Examples\n",
    "\n",
    "Arithmetic expressions are mathematical representations that involve basic arithmetic operations such as addition, subtraction, multiplication, and division. These expressions allow us to perform calculations and manipulate numerical values.\n",
    "\n",
    "Here are some examples of arithmetic expressions:\n",
    "\n",
    "1. Addition: The sum of two numbers."
   ]
  },
  {
   "cell_type": "code",
   "execution_count": 3,
   "id": "593bd90c",
   "metadata": {},
   "outputs": [
    {
     "data": {
      "text/plain": [
       "9"
      ]
     },
     "execution_count": 3,
     "metadata": {},
     "output_type": "execute_result"
    }
   ],
   "source": [
    "5+4"
   ]
  },
  {
   "cell_type": "markdown",
   "id": "6676f97f",
   "metadata": {},
   "source": [
    "2. Subtraction: The difference between two numbers."
   ]
  },
  {
   "cell_type": "code",
   "execution_count": 4,
   "id": "5a0eedc9",
   "metadata": {},
   "outputs": [
    {
     "data": {
      "text/plain": [
       "2"
      ]
     },
     "execution_count": 4,
     "metadata": {},
     "output_type": "execute_result"
    }
   ],
   "source": [
    "7-5"
   ]
  },
  {
   "cell_type": "code",
   "execution_count": 6,
   "id": "985ea154",
   "metadata": {},
   "outputs": [
    {
     "name": "stdout",
     "output_type": "stream",
     "text": [
      "Multiplication Result: 15\n",
      "Addition Result: 14\n"
     ]
    }
   ],
   "source": [
    "# Multiply two numbers\n",
    "num1 = 5\n",
    "num2 = 3\n",
    "result_multiply = num1 * num2\n",
    "print(\"Multiplication Result:\", result_multiply)\n",
    "\n",
    "# Add two numbers\n",
    "num3 = 10\n",
    "num4 = 4\n",
    "result_add = num3 + num4\n",
    "print(\"Addition Result:\", result_add)"
   ]
  },
  {
   "cell_type": "code",
   "execution_count": 7,
   "id": "c33738e1",
   "metadata": {},
   "outputs": [
    {
     "name": "stdout",
     "output_type": "stream",
     "text": [
      "Minutes: 150\n",
      "Hours: 2.5\n"
     ]
    }
   ],
   "source": [
    "# Convert minutes to hours\n",
    "minutes = 150\n",
    "hours = minutes / 60\n",
    "\n",
    "print(\"Minutes:\", minutes)\n",
    "print(\"Hours:\", hours)"
   ]
  },
  {
   "cell_type": "markdown",
   "id": "7f1b748a",
   "metadata": {},
   "source": [
    "## Objectives\n",
    "\n",
    "In this notebook, we aim to achieve the following objectives:\n",
    "\n",
    "1. Explore and preprocess the dataset: We will examine the data, identify any missing values or outliers, and perform necessary preprocessing steps such as data cleaning and normalization.\n",
    "\n",
    "2. Perform descriptive analysis: We will calculate summary statistics, visualize distributions, and generate insights about the dataset's key characteristics.\n"
   ]
  },
  {
   "cell_type": "markdown",
   "id": "1af2c445",
   "metadata": {},
   "source": [
    "## Author\n",
    "\n",
    "- [Rawan Mohammed](https://github.com/RawanRMM)"
   ]
  },
  {
   "cell_type": "code",
   "execution_count": null,
   "id": "3087cab0",
   "metadata": {},
   "outputs": [],
   "source": []
  }
 ],
 "metadata": {
  "kernelspec": {
   "display_name": "Python 3 (ipykernel)",
   "language": "python",
   "name": "python3"
  },
  "language_info": {
   "codemirror_mode": {
    "name": "ipython",
    "version": 3
   },
   "file_extension": ".py",
   "mimetype": "text/x-python",
   "name": "python",
   "nbconvert_exporter": "python",
   "pygments_lexer": "ipython3",
   "version": "3.11.5"
  }
 },
 "nbformat": 4,
 "nbformat_minor": 5
}
